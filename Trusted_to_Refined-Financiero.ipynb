{
 "cells": [
  {
   "cell_type": "code",
   "execution_count": null,
   "metadata": {},
   "outputs": [],
   "source": [
    "# En caso de trabajar en otra plataforma que no sea Databricks\n",
    "# instalar la librería PySpark\n",
    "# pip install pyspark"
   ]
  },
  {
   "cell_type": "code",
   "execution_count": null,
   "metadata": {
    "application/vnd.databricks.v1+cell": {
     "cellMetadata": {
      "byteLimit": 2048000,
      "rowLimit": 10000
     },
     "inputWidgets": {},
     "nuid": "daba7852-212b-4f47-969f-fb77eed6c8dc",
     "showTitle": false,
     "title": ""
    }
   },
   "outputs": [],
   "source": [
    "from pyspark.sql import SparkSession\n",
    "from pyspark.sql.types import *\n",
    "from pyspark.sql.functions import * "
   ]
  },
  {
   "cell_type": "code",
   "execution_count": null,
   "metadata": {},
   "outputs": [],
   "source": [
    "# Iniciar Spark en otra plataforma que no sea Databricks\n",
    "# spark = SparkSession.builder.appName('DataFrame').getOrCreate()"
   ]
  },
  {
   "attachments": {},
   "cell_type": "markdown",
   "metadata": {
    "application/vnd.databricks.v1+cell": {
     "cellMetadata": {},
     "inputWidgets": {},
     "nuid": "e431f134-10e8-47a6-8ed2-a92e132bf79e",
     "showTitle": false,
     "title": ""
    }
   },
   "source": [
    "Conexión a Data Lake y descarga de tablas"
   ]
  },
  {
   "cell_type": "code",
   "execution_count": null,
   "metadata": {
    "application/vnd.databricks.v1+cell": {
     "cellMetadata": {
      "byteLimit": 2048000,
      "rowLimit": 10000
     },
     "inputWidgets": {},
     "nuid": "7caa7138-731e-47ff-9e68-326df9ca2c58",
     "showTitle": false,
     "title": ""
    }
   },
   "outputs": [],
   "source": [
    "container = '' # Nombre del contenedor en Azure Data Lake\n",
    "datalake = '' # Nombre de la instancia de Azure Data Lake (o Storage Account)"
   ]
  },
  {
   "cell_type": "code",
   "execution_count": null,
   "metadata": {
    "application/vnd.databricks.v1+cell": {
     "cellMetadata": {
      "byteLimit": 2048000,
      "rowLimit": 10000
     },
     "inputWidgets": {},
     "nuid": "eed427d8-4305-4e5e-b5fd-731e881e9d9d",
     "showTitle": false,
     "title": ""
    }
   },
   "outputs": [],
   "source": [
    "access_key = '*******' # Clave de acceso a Azure Data Lake\n",
    "spark.conf.set(f'fs.azure.account.key.{datalake}.dfs.core.windows.net', access_key)"
   ]
  },
  {
   "cell_type": "code",
   "execution_count": null,
   "metadata": {
    "application/vnd.databricks.v1+cell": {
     "cellMetadata": {
      "byteLimit": 2048000,
      "rowLimit": 10000
     },
     "inputWidgets": {},
     "nuid": "93ffd0d0-e53b-46a9-97ff-199d9dfddb26",
     "showTitle": false,
     "title": ""
    }
   },
   "outputs": [],
   "source": [
    "file_name = ['Company_Tweet', 'Company', 'CompanyValues', 'Tweet']"
   ]
  },
  {
   "cell_type": "code",
   "execution_count": null,
   "metadata": {
    "application/vnd.databricks.v1+cell": {
     "cellMetadata": {
      "byteLimit": 2048000,
      "rowLimit": 10000
     },
     "inputWidgets": {},
     "nuid": "201f7484-87d7-4ae7-a4b5-e045d8eafe74",
     "showTitle": false,
     "title": ""
    }
   },
   "outputs": [],
   "source": [
    "for name in file_name:\n",
    "    exec(f\"PATH_{name} = f'abfss://{container}@{datalake}.dfs.core.windows.net/Trusted/{name}/*'\")\n",
    "    exec(f\"df_{name} = spark.read.load(PATH_{name}, format = 'parquet',inferSchema = True)\")"
   ]
  },
  {
   "cell_type": "code",
   "execution_count": null,
   "metadata": {
    "application/vnd.databricks.v1+cell": {
     "cellMetadata": {
      "byteLimit": 2048000,
      "rowLimit": 10000
     },
     "inputWidgets": {},
     "nuid": "6e15aa77-74ab-4600-9993-d0d51f679fb2",
     "showTitle": false,
     "title": ""
    }
   },
   "outputs": [],
   "source": [
    "# Creación de vista temporal para realizar consultas SQL\n",
    "for name in file_name:\n",
    "    exec(f\"df_{name}.createOrReplaceTempView('df_{name}')\")"
   ]
  },
  {
   "attachments": {},
   "cell_type": "markdown",
   "metadata": {
    "application/vnd.databricks.v1+cell": {
     "cellMetadata": {},
     "inputWidgets": {},
     "nuid": "8eeee6e6-138c-4007-9494-a72e3959bef4",
     "showTitle": false,
     "title": ""
    }
   },
   "source": [
    "Join de tabla Tweets con tabla de compañias y nombres"
   ]
  },
  {
   "cell_type": "code",
   "execution_count": null,
   "metadata": {
    "application/vnd.databricks.v1+cell": {
     "cellMetadata": {
      "byteLimit": 2048000,
      "rowLimit": 10000
     },
     "inputWidgets": {},
     "nuid": "fc0a20c0-53e6-46ca-ae15-b11092ff2e8a",
     "showTitle": false,
     "title": ""
    }
   },
   "outputs": [],
   "source": [
    "df_Tweets = spark.sql('''\n",
    "          SELECT Tweet.tweet_id,\n",
    "                Tweet.writer,\n",
    "                Tweet.post_date,\n",
    "                CAST(Tweet.post_date AS DATE) AS date,\n",
    "                CTweet.ticker_symbol,\n",
    "                df_Company.company_name,\n",
    "                Tweet.body,\n",
    "                Tweet.comment_num,\n",
    "                Tweet.retweet_num,\n",
    "                Tweet.like_num,\n",
    "                `Tweet`.`open_market`\n",
    "                \n",
    "          FROM df_Tweet AS Tweet\n",
    "          LEFT JOIN df_Company_Tweet AS CTweet ON Tweet.tweet_id = CTweet.tweet_id\n",
    "          LEFT JOIN df_Company ON CTweet.ticker_symbol = df_Company.ticker_symbol\n",
    "          ''')"
   ]
  },
  {
   "cell_type": "code",
   "execution_count": null,
   "metadata": {
    "application/vnd.databricks.v1+cell": {
     "cellMetadata": {
      "byteLimit": 2048000,
      "rowLimit": 10000
     },
     "inputWidgets": {},
     "nuid": "911bbca2-2580-464a-a62b-1ac2ce832728",
     "showTitle": false,
     "title": ""
    }
   },
   "outputs": [
    {
     "name": "stdout",
     "output_type": "stream",
     "text": [
      "+-------------+-------+\n",
      "|ticker_symbol|  count|\n",
      "+-------------+-------+\n",
      "|         AAPL|1415653|\n",
      "|         TSLA|1071279|\n",
      "|         GOOG| 390538|\n",
      "|        GOOGL| 325561|\n",
      "|         AMZN| 713038|\n",
      "|         MSFT| 373689|\n",
      "+-------------+-------+\n",
      "\n"
     ]
    }
   ],
   "source": [
    "df_Tweets.groupBy(col('ticker_symbol')).count().show()"
   ]
  },
  {
   "cell_type": "code",
   "execution_count": null,
   "metadata": {
    "application/vnd.databricks.v1+cell": {
     "cellMetadata": {
      "byteLimit": 2048000,
      "rowLimit": 10000
     },
     "inputWidgets": {},
     "nuid": "ed1dd82d-e284-48bf-96cc-8c3b506d2655",
     "showTitle": false,
     "title": ""
    }
   },
   "outputs": [],
   "source": [
    "df_Tweets.createOrReplaceTempView('df_Tweets')"
   ]
  },
  {
   "attachments": {},
   "cell_type": "markdown",
   "metadata": {
    "application/vnd.databricks.v1+cell": {
     "cellMetadata": {},
     "inputWidgets": {},
     "nuid": "36aaa758-ea5f-4505-9d51-6e6d95200cb3",
     "showTitle": false,
     "title": ""
    }
   },
   "source": [
    "Calculos de cantidades diarias de la tabla Tweets"
   ]
  },
  {
   "cell_type": "code",
   "execution_count": null,
   "metadata": {
    "application/vnd.databricks.v1+cell": {
     "cellMetadata": {
      "byteLimit": 2048000,
      "rowLimit": 10000
     },
     "inputWidgets": {},
     "nuid": "18a80b6a-7465-4b78-adfd-98e21faf90af",
     "showTitle": false,
     "title": ""
    }
   },
   "outputs": [],
   "source": [
    "Tweets_diarios = spark.sql('''\n",
    "          SELECT t.date,\n",
    "          t.interaction_open,\n",
    "          t.interaction_close,\n",
    "          t.ticker_symbol,\n",
    "          t.interaction_open + interaction_close AS interaction_daily,\n",
    "          t.tweets_daily,\n",
    "          t.comment_num,\n",
    "          t.retweet_num,\n",
    "          t.like_num\n",
    "          FROM (\n",
    "              SELECT date, ticker_symbol,\n",
    "                     SUM(CASE WHEN `open_market` = TRUE \n",
    "                              THEN comment_num + retweet_num + like_num \n",
    "                              ELSE 0 \n",
    "                     END) AS interaction_open,\n",
    "                     SUM(CASE WHEN `open_market` = FALSE \n",
    "                              THEN comment_num + retweet_num + like_num \n",
    "                              ELSE 0 \n",
    "                     END) AS interaction_close,\n",
    "                     count(ticker_symbol) AS tweets_daily,\n",
    "                     sum(comment_num) AS comment_num,\n",
    "                     sum(retweet_num) AS retweet_num,\n",
    "                     sum(like_num) AS like_num\n",
    "              FROM df_Tweets\n",
    "              GROUP BY date, ticker_symbol\n",
    "          ) AS t\n",
    "          ORDER BY t.date, ticker_symbol\n",
    "          ''')"
   ]
  },
  {
   "cell_type": "code",
   "execution_count": null,
   "metadata": {
    "application/vnd.databricks.v1+cell": {
     "cellMetadata": {
      "byteLimit": 2048000,
      "rowLimit": 10000
     },
     "inputWidgets": {},
     "nuid": "207634d7-f8cc-4d04-89c5-40ccc47a3ee2",
     "showTitle": false,
     "title": ""
    }
   },
   "outputs": [],
   "source": [
    "Tweets_diarios.createOrReplaceTempView('df_TweetsDiarios')"
   ]
  },
  {
   "attachments": {},
   "cell_type": "markdown",
   "metadata": {
    "application/vnd.databricks.v1+cell": {
     "cellMetadata": {},
     "inputWidgets": {},
     "nuid": "34c67cc3-fc54-485e-b988-bb6917b231c4",
     "showTitle": false,
     "title": ""
    }
   },
   "source": [
    "Joins de tabla de CompanyValues con la tabla creada anteriormente de Tweets diarios"
   ]
  },
  {
   "cell_type": "code",
   "execution_count": null,
   "metadata": {
    "application/vnd.databricks.v1+cell": {
     "cellMetadata": {
      "byteLimit": 2048000,
      "rowLimit": 10000
     },
     "inputWidgets": {},
     "nuid": "92392c40-8196-4675-aacc-a62c80a4f680",
     "showTitle": false,
     "title": ""
    }
   },
   "outputs": [],
   "source": [
    "CompanyValues = spark.sql('''\n",
    "                    SELECT CV.ticker_symbol,\n",
    "                    C.company_name,\n",
    "                    CV.day_date,\n",
    "                    CV.open_value,\n",
    "                    CV.close_value,\n",
    "                    CV.volume,\n",
    "                    CV.high_value,\n",
    "                    CV.low_value,\n",
    "                    CV.v_volume,\n",
    "                    CV.v_open_diaria,\n",
    "                    CV.v_open,\n",
    "                    CV.mg_open_volume,\n",
    "                    TD.interaction_open,\n",
    "                    TD.interaction_close,\n",
    "                    TD.interaction_daily,\n",
    "                    TD.tweets_daily,\n",
    "                    TD.comment_num,\n",
    "                    TD.retweet_num,\n",
    "                    TD.like_num\n",
    "                    FROM df_CompanyValues AS CV\n",
    "                    LEFT JOIN df_Company AS C ON CV.ticker_symbol = C.ticker_symbol\n",
    "                    LEFT JOIN df_TweetsDiarios AS TD ON CV.ticker_symbol = TD.ticker_symbol AND CV.day_date = TD.date\n",
    "                    ORDER BY CV.ticker_symbol, CV.day_date\n",
    "                    ''')"
   ]
  },
  {
   "cell_type": "code",
   "execution_count": null,
   "metadata": {
    "application/vnd.databricks.v1+cell": {
     "cellMetadata": {
      "byteLimit": 2048000,
      "rowLimit": 10000
     },
     "inputWidgets": {},
     "nuid": "5aee5a6b-aa9b-4cbb-bb3a-8c5f0a13e634",
     "showTitle": false,
     "title": ""
    }
   },
   "outputs": [],
   "source": [
    "CompanyValues.createOrReplaceTempView('df_CompanyValues')"
   ]
  },
  {
   "attachments": {},
   "cell_type": "markdown",
   "metadata": {
    "application/vnd.databricks.v1+cell": {
     "cellMetadata": {},
     "inputWidgets": {},
     "nuid": "2949ca36-281f-4533-8a75-7aa0022c39a7",
     "showTitle": false,
     "title": ""
    }
   },
   "source": [
    "Calculos de variaciones"
   ]
  },
  {
   "cell_type": "code",
   "execution_count": null,
   "metadata": {
    "application/vnd.databricks.v1+cell": {
     "cellMetadata": {
      "byteLimit": 2048000,
      "rowLimit": 10000
     },
     "inputWidgets": {},
     "nuid": "6dcffa75-50d0-43ee-9328-dd586613ab82",
     "showTitle": false,
     "title": ""
    }
   },
   "outputs": [],
   "source": [
    "CompanyValues = spark.sql('''\n",
    "                        SELECT *\n",
    "                        FROM (\n",
    "                            SELECT *, interaction_daily - lag(interaction_daily,1) OVER (PARTITION BY ticker_symbol ORDER BY day_date) AS v_interaccion,\n",
    "                            v_interaccion / v_volume as mg_interaccion_volume,\n",
    "                            tweets_daily - lag(tweets_daily,1) OVER (PARTITION BY ticker_symbol ORDER BY day_date) AS v_tweets,\n",
    "                            (v_interaccion + v_tweets) / v_volume AS mg_interacion_tweets_volumen\n",
    "                            FROM df_CompanyValues\n",
    "                            )\n",
    "                        ''')"
   ]
  },
  {
   "cell_type": "code",
   "execution_count": null,
   "metadata": {
    "application/vnd.databricks.v1+cell": {
     "cellMetadata": {
      "byteLimit": 2048000,
      "rowLimit": 10000
     },
     "inputWidgets": {},
     "nuid": "09464741-055e-4cf5-8e87-5151f676366d",
     "showTitle": false,
     "title": ""
    }
   },
   "outputs": [],
   "source": [
    "CompanyValues.createOrReplaceTempView('df_CompanyValues')"
   ]
  },
  {
   "cell_type": "code",
   "execution_count": null,
   "metadata": {
    "application/vnd.databricks.v1+cell": {
     "cellMetadata": {
      "byteLimit": 2048000,
      "rowLimit": 10000
     },
     "inputWidgets": {},
     "nuid": "7c9fe4d0-5fe4-4ad0-93e7-1a19698d0102",
     "showTitle": false,
     "title": ""
    }
   },
   "outputs": [],
   "source": [
    "CompanyValues = spark.sql('''\n",
    "                             SELECT ticker_symbol,\n",
    "                             company_name,\n",
    "                             day_date,\n",
    "                             open_value,\n",
    "                             close_value,\n",
    "                             volume,\n",
    "                             high_value,\n",
    "                             low_value,\n",
    "                             coalesce(v_volume, 0) AS v_volume,\n",
    "                             coalesce(v_open_diaria, 0) AS v_open_diaria,\n",
    "                             coalesce(v_open, 0) AS v_open,\n",
    "                             coalesce(mg_open_volume, 0) AS mg_open_volume,\n",
    "                             coalesce(interaction_open, 0) AS interaction_open,\n",
    "                             coalesce(interaction_close, 0) AS interaction_close,\n",
    "                             coalesce(interaction_daily, 0) AS interaction_daily,\n",
    "                             coalesce(tweets_daily, 0) AS tweets_daily,\n",
    "                             coalesce(v_interaccion, 0) AS v_interaccion,\n",
    "                             coalesce(mg_interaccion_volume, 0) AS mg_interaccion_volume,\n",
    "                             coalesce(mg_interacion_tweets_volumen, 0) AS mg_interacion_tweets_volumen,\n",
    "                             coalesce(v_tweets, 0) AS v_tweets,\n",
    "                             coalesce(comment_num, 0) AS comment_num,\n",
    "                             coalesce(retweet_num, 0) AS retweet_num,\n",
    "                             coalesce(like_num, 0) AS like_num\n",
    "                             FROM df_CompanyValues\n",
    "                             ''')"
   ]
  },
  {
   "attachments": {},
   "cell_type": "markdown",
   "metadata": {
    "application/vnd.databricks.v1+cell": {
     "cellMetadata": {},
     "inputWidgets": {},
     "nuid": "af5a39c8-4b71-41e8-8dd7-093da3d4b534",
     "showTitle": false,
     "title": ""
    }
   },
   "source": [
    "Conexión y carga en base de datos"
   ]
  },
  {
   "cell_type": "code",
   "execution_count": null,
   "metadata": {
    "application/vnd.databricks.v1+cell": {
     "cellMetadata": {
      "byteLimit": 2048000,
      "rowLimit": 10000
     },
     "inputWidgets": {},
     "nuid": "00d055e5-1536-442e-a70b-7752ee6d15ff",
     "showTitle": false,
     "title": ""
    }
   },
   "outputs": [],
   "source": [
    "jdbcHostname = \"\" # Nombre o URL de servidor de base de datos\n",
    "jdbcPort = 1433\n",
    "jdbcDatabase = \"DWIntegrador\" # Nombre de la base de datos\n",
    "jdbcUsername = \"\" # Nombre de usuario para conexión de base de datos\n",
    "jdbcPassword = \"\" # Contraseña del usuario\n",
    "jdbcDriver = \"com.microsoft.sqlserver.jdbc.SQLServerDriver\"\n",
    "\n",
    "jdbcUrl= f\"jdbc:sqlserver://{jdbcHostname}:{jdbcPort};databaseName={jdbcDatabase};user={jdbcUsername};password={jdbcPassword}\""
   ]
  },
  {
   "cell_type": "code",
   "execution_count": null,
   "metadata": {
    "application/vnd.databricks.v1+cell": {
     "cellMetadata": {
      "byteLimit": 2048000,
      "rowLimit": 10000
     },
     "inputWidgets": {},
     "nuid": "83dc1384-42c1-4933-ba6b-568356f9cf94",
     "showTitle": false,
     "title": ""
    }
   },
   "outputs": [],
   "source": [
    "CompanyValues.write.mode(\"overwrite\")\\\n",
    ".format(\"jdbc\")\\\n",
    ".option(\"driver\", \"com.microsoft.sqlserver.jdbc.SQLServerDriver\")\\\n",
    ".option(\"url\", f\"jdbc:sqlserver://{jdbcHostname}:{jdbcPort};databaseName={jdbcDatabase};user={jdbcUsername};password={jdbcPassword}\")\\\n",
    ".option(\"dbtable\", \"Maidana_Financiero\")\\\n",
    ".save()"
   ]
  },
  {
   "cell_type": "code",
   "execution_count": null,
   "metadata": {
    "application/vnd.databricks.v1+cell": {
     "cellMetadata": {},
     "inputWidgets": {},
     "nuid": "11d0a455-653f-4595-9dbb-bbd95aa4d651",
     "showTitle": false,
     "title": ""
    }
   },
   "outputs": [],
   "source": []
  }
 ],
 "metadata": {
  "application/vnd.databricks.v1+notebook": {
   "dashboards": [],
   "language": "python",
   "notebookMetadata": {
    "mostRecentlyExecutedCommandWithImplicitDF": {
     "commandId": 734869133781615,
     "dataframes": [
      "_sqldf"
     ]
    },
    "pythonIndentUnit": 4
   },
   "notebookName": "Trusted to Refined - Financiero",
   "widgets": {}
  },
  "language_info": {
   "name": "python"
  }
 },
 "nbformat": 4,
 "nbformat_minor": 0
}
