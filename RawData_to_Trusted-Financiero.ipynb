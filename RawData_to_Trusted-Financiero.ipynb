{
  "cells": [
    {
      "cell_type": "code",
      "source": [
        "# En caso de trabajar en otra plataforma que no sea Databricks\n",
        "# instalar la librería PySpark\n",
        "# pip install pyspark"
      ],
      "metadata": {
        "id": "tAFVPniaVAso"
      },
      "execution_count": null,
      "outputs": []
    },
    {
      "cell_type": "code",
      "execution_count": null,
      "metadata": {
        "application/vnd.databricks.v1+cell": {
          "cellMetadata": {
            "byteLimit": 2048000,
            "rowLimit": 10000
          },
          "inputWidgets": {},
          "nuid": "5d199c9c-b4e0-4454-867d-4b6c54cffeeb",
          "showTitle": false,
          "title": ""
        },
        "id": "AnfwrttSU_3l"
      },
      "outputs": [],
      "source": [
        "from pyspark.sql import SparkSession\n",
        "from pyspark.sql.types import *\n",
        "from pyspark.sql.functions import *\n",
        "from pyspark.sql.window import Window"
      ]
    },
    {
      "cell_type": "code",
      "source": [
        "# Iniciar Spark en otra plataforma que no sea Databricks\n",
        "# spark = SparkSession.builder.appName('DataFrame').getOrCreate()"
      ],
      "metadata": {
        "id": "qj8G_0pbVH_o"
      },
      "execution_count": null,
      "outputs": []
    },
    {
      "cell_type": "markdown",
      "metadata": {
        "application/vnd.databricks.v1+cell": {
          "cellMetadata": {},
          "inputWidgets": {},
          "nuid": "9e244eb2-e71b-403f-af93-fa5462479233",
          "showTitle": false,
          "title": ""
        },
        "id": "j6vn23EXU_3m"
      },
      "source": [
        "Conexión DataLake y lectura de archivos"
      ]
    },
    {
      "cell_type": "code",
      "execution_count": null,
      "metadata": {
        "application/vnd.databricks.v1+cell": {
          "cellMetadata": {
            "byteLimit": 2048000,
            "rowLimit": 10000
          },
          "inputWidgets": {},
          "nuid": "d8f7c6d2-8861-4e09-9ae2-7ace1db11948",
          "showTitle": false,
          "title": ""
        },
        "id": "Vp0w-JSeU_3n"
      },
      "outputs": [],
      "source": [
        "container = '' # Nombre del contenedor en Azure Data Lake\n",
        "datalake = '' # Nombre de la instancia de Azure Data Lake (o Storage Account)"
      ]
    },
    {
      "cell_type": "code",
      "execution_count": null,
      "metadata": {
        "application/vnd.databricks.v1+cell": {
          "cellMetadata": {
            "byteLimit": 2048000,
            "rowLimit": 10000
          },
          "inputWidgets": {},
          "nuid": "3e219d0d-4a8e-4d57-aff7-782512ad8331",
          "showTitle": false,
          "title": ""
        },
        "id": "zf3AdZAbU_3o"
      },
      "outputs": [],
      "source": [
        "access_key = '*******' # Clave de acceso a Azure Data Lake\n",
        "spark.conf.set(f'fs.azure.account.key.{datalake}.dfs.core.windows.net', access_key)"
      ]
    },
    {
      "cell_type": "code",
      "execution_count": null,
      "metadata": {
        "application/vnd.databricks.v1+cell": {
          "cellMetadata": {
            "byteLimit": 2048000,
            "rowLimit": 10000
          },
          "inputWidgets": {},
          "nuid": "43784792-d326-4122-9f3a-d59e0094002b",
          "showTitle": false,
          "title": ""
        },
        "id": "YYDVbFzvU_3o"
      },
      "outputs": [],
      "source": [
        "file_names = ['Company_Tweet', 'Company', 'CompanyValues', 'Tweet']"
      ]
    },
    {
      "cell_type": "code",
      "execution_count": null,
      "metadata": {
        "application/vnd.databricks.v1+cell": {
          "cellMetadata": {
            "byteLimit": 2048000,
            "rowLimit": 10000
          },
          "inputWidgets": {},
          "nuid": "48b6babe-cad1-4d6a-ac70-1cd4411fd0e1",
          "showTitle": false,
          "title": ""
        },
        "id": "RVaBJOZTU_3o"
      },
      "outputs": [],
      "source": [
        "for name in file_names:\n",
        "    exec(f\"PATH_{name} = f'abfss://{container}@{datalake}.dfs.core.windows.net/RawData/2023-05-23/{name}.csv'\")\n",
        "    exec(f\"df_{name} = spark.read.load(PATH_{name}, format = 'csv', header = 'true', sep='|' ,inferSchema = True)\")"
      ]
    },
    {
      "cell_type": "markdown",
      "metadata": {
        "application/vnd.databricks.v1+cell": {
          "cellMetadata": {},
          "inputWidgets": {},
          "nuid": "881d3b57-5d65-4f8c-935d-d0e228524e99",
          "showTitle": false,
          "title": ""
        },
        "id": "utHLkUCWU_3p"
      },
      "source": [
        "Casteos y limpieza de nulos"
      ]
    },
    {
      "cell_type": "code",
      "source": [
        "# Creacion de columnas auxiliares de validacion de tipo de datos\n",
        "def validacion_numero(tabla, columna):\n",
        "  tabla = tabla.withColumn(\n",
        "      f'{columna}_type',\n",
        "       (col(columna).cast('int').isNotNull()) | (col(columna).isNull())\n",
        "       )\n",
        "  return tabla"
      ],
      "metadata": {
        "id": "3jIitiI1WSLe"
      },
      "execution_count": null,
      "outputs": []
    },
    {
      "cell_type": "code",
      "source": [
        "column_int = ['comment_num', 'retweet_num', 'like_num']\n",
        "\n",
        "for column in column_int:\n",
        "  df_Tweet = validacion_numero(df_Tweet, column)"
      ],
      "metadata": {
        "id": "LnvQEXGHWxIk"
      },
      "execution_count": null,
      "outputs": []
    },
    {
      "cell_type": "code",
      "execution_count": null,
      "metadata": {
        "application/vnd.databricks.v1+cell": {
          "cellMetadata": {
            "byteLimit": 2048000,
            "rowLimit": 10000
          },
          "inputWidgets": {},
          "nuid": "c46d9943-2212-4dca-b824-7bc881837b54",
          "showTitle": false,
          "title": ""
        },
        "colab": {
          "base_uri": "https://localhost:8080/"
        },
        "id": "8vlsT9QkU_3p",
        "outputId": "e3a2c984-3805-47b4-d11b-603a017185ba"
      },
      "outputs": [
        {
          "output_type": "execute_result",
          "data": {
            "text/plain": [
              "3717964"
            ]
          },
          "metadata": {},
          "execution_count": 28
        }
      ],
      "source": [
        "df_Tweet.count()"
      ]
    },
    {
      "cell_type": "code",
      "execution_count": null,
      "metadata": {
        "application/vnd.databricks.v1+cell": {
          "cellMetadata": {
            "byteLimit": 2048000,
            "rowLimit": 10000
          },
          "inputWidgets": {},
          "nuid": "4b797b53-0468-4602-a84f-e635057630b7",
          "showTitle": false,
          "title": ""
        },
        "colab": {
          "base_uri": "https://localhost:8080/"
        },
        "id": "Fv-g1utuU_3q",
        "outputId": "a0f0cc79-3ebb-4e11-fbb3-e7e07daa8d5a"
      },
      "outputs": [
        {
          "output_type": "execute_result",
          "data": {
            "text/plain": [
              "42943"
            ]
          },
          "metadata": {},
          "execution_count": 27
        }
      ],
      "source": [
        "# Cantidad de datos que no son string\n",
        "df_Tweet.where((col('comment_num_type') == False) |\n",
        "               (col('retweet_num_type') == False) |\n",
        "               (col('like_num_type') == False)).count()"
      ]
    },
    {
      "cell_type": "code",
      "execution_count": null,
      "metadata": {
        "application/vnd.databricks.v1+cell": {
          "cellMetadata": {
            "byteLimit": 2048000,
            "rowLimit": 10000
          },
          "inputWidgets": {},
          "nuid": "c3d9fe24-6915-4691-a782-4328fce09b2a",
          "showTitle": false,
          "title": ""
        },
        "colab": {
          "base_uri": "https://localhost:8080/"
        },
        "id": "f4qsPKjVU_3r",
        "outputId": "05329dc0-e25a-4e67-bab0-d42caba4326b"
      },
      "outputs": [
        {
          "output_type": "execute_result",
          "data": {
            "text/plain": [
              "3675021"
            ]
          },
          "metadata": {},
          "execution_count": 31
        }
      ],
      "source": [
        "# Guardados de datos que son numericos unicamente\n",
        "df_Tweet.where((col('comment_num_type') == True) &\n",
        "               (col('retweet_num_type') == True) &\n",
        "               (col('like_num_type') == True)).count()"
      ]
    },
    {
      "cell_type": "code",
      "execution_count": null,
      "metadata": {
        "application/vnd.databricks.v1+cell": {
          "cellMetadata": {
            "byteLimit": 2048000,
            "rowLimit": 10000
          },
          "inputWidgets": {},
          "nuid": "c4877372-f252-442b-99c8-48de59e12480",
          "showTitle": false,
          "title": ""
        },
        "id": "I2eeRX5DU_3r"
      },
      "outputs": [],
      "source": [
        "df_Tweet = df_Tweet.where(\n",
        "    (col('comment_num_type') == True) &\n",
        "    (col('retweet_num_type') == True) &\n",
        "    (col('like_num_type') == True))"
      ]
    },
    {
      "cell_type": "code",
      "execution_count": null,
      "metadata": {
        "application/vnd.databricks.v1+cell": {
          "cellMetadata": {
            "byteLimit": 2048000,
            "rowLimit": 10000
          },
          "inputWidgets": {},
          "nuid": "9e9aacc1-8e12-4d5f-b425-f47aa366a59b",
          "showTitle": false,
          "title": ""
        },
        "colab": {
          "base_uri": "https://localhost:8080/"
        },
        "id": "3tgtZx10U_3s",
        "outputId": "5f3c0a7f-25c3-4db4-ff5b-d28d8b692782"
      },
      "outputs": [
        {
          "output_type": "execute_result",
          "data": {
            "text/plain": [
              "14"
            ]
          },
          "metadata": {},
          "execution_count": 32
        }
      ],
      "source": [
        "# Cantidad de datos nulos dentro de los campos numericos\n",
        "df_Tweet.where(\n",
        "    (isnull(col('comment_num')) |\n",
        "    (isnull(col('retweet_num'))) |\n",
        "    (isnull(col('like_num'))))\n",
        "    ).count()"
      ]
    },
    {
      "cell_type": "code",
      "execution_count": null,
      "metadata": {
        "application/vnd.databricks.v1+cell": {
          "cellMetadata": {
            "byteLimit": 2048000,
            "rowLimit": 10000
          },
          "inputWidgets": {},
          "nuid": "a5d12de8-26b2-45d1-bc61-a3f8cb674bf8",
          "showTitle": false,
          "title": ""
        },
        "id": "KC5fadoTU_3s"
      },
      "outputs": [],
      "source": [
        "# Filtrado de datos no nulos en columnas numericas\n",
        "df_Tweet = df_Tweet.where(~(\n",
        "              (isnull(df_Tweet['comment_num'])) |\n",
        "              (isnull(df_Tweet['retweet_num'])) |\n",
        "              (isnull(df_Tweet['like_num']))\n",
        "              ))"
      ]
    },
    {
      "cell_type": "code",
      "execution_count": null,
      "metadata": {
        "application/vnd.databricks.v1+cell": {
          "cellMetadata": {
            "byteLimit": 2048000,
            "rowLimit": 10000
          },
          "inputWidgets": {},
          "nuid": "54af7578-6a1f-410d-9d4d-2e22c1784fc9",
          "showTitle": false,
          "title": ""
        },
        "id": "9VJjtX8QU_3s"
      },
      "outputs": [],
      "source": [
        "# Guardado de columnas principales\n",
        "df_Tweet = df_Tweet.select('tweet_id',\n",
        "                           'writer',\n",
        "                           'post_date',\n",
        "                           'body',\n",
        "                           'comment_num',\n",
        "                           'retweet_num',\n",
        "                           'like_num')"
      ]
    },
    {
      "cell_type": "code",
      "execution_count": null,
      "metadata": {
        "application/vnd.databricks.v1+cell": {
          "cellMetadata": {
            "byteLimit": 2048000,
            "rowLimit": 10000
          },
          "inputWidgets": {},
          "nuid": "52c9223d-a1f7-40c6-9366-c55815e110c8",
          "showTitle": false,
          "title": ""
        },
        "id": "Trp5iUjyU_3s"
      },
      "outputs": [],
      "source": [
        "# Casteo de columnas numericas\n",
        "def cast_int(tabla, columna):\n",
        "  tabla = tabla.withColumn(columna, col(columna).cast('int'))\n",
        "  return tabla"
      ]
    },
    {
      "cell_type": "code",
      "source": [
        "for column in column_int:\n",
        "  df_Tweet = cast_int(df_Tweet, column)"
      ],
      "metadata": {
        "id": "pU7KASuujEa4"
      },
      "execution_count": null,
      "outputs": []
    },
    {
      "cell_type": "code",
      "execution_count": null,
      "metadata": {
        "application/vnd.databricks.v1+cell": {
          "cellMetadata": {
            "byteLimit": 2048000,
            "rowLimit": 10000
          },
          "inputWidgets": {},
          "nuid": "1d41aa69-934c-4420-a3f8-3c0a15f7155f",
          "showTitle": false,
          "title": ""
        },
        "id": "oCpu48G4U_3t"
      },
      "outputs": [],
      "source": [
        "# Casteo de fecha y hora en horario UTC\n",
        "df_Tweet = df_Tweet.withColumn('post_date', (from_unixtime(col('post_date'))).\n",
        "                               cast('timestamp'))"
      ]
    },
    {
      "cell_type": "code",
      "execution_count": null,
      "metadata": {
        "application/vnd.databricks.v1+cell": {
          "cellMetadata": {
            "byteLimit": 2048000,
            "rowLimit": 10000
          },
          "inputWidgets": {},
          "nuid": "7e6785c1-b3b6-4b99-9258-fa1a4c82cceb",
          "showTitle": false,
          "title": ""
        },
        "id": "gECjZoGgU_3t"
      },
      "outputs": [],
      "source": [
        "# Columna que indica si el mercado se encontraba abierto o cerrado\n",
        "df_Tweet = df_Tweet.withColumn('open_market',\n",
        "                               when((hour('post_date') >= 14) &\n",
        "                                    (hour('post_date') <= 21), True).\n",
        "                               otherwise(False))\n"
      ]
    },
    {
      "cell_type": "markdown",
      "metadata": {
        "application/vnd.databricks.v1+cell": {
          "cellMetadata": {},
          "inputWidgets": {},
          "nuid": "1dce40cb-631c-4fef-8070-95e37e623de3",
          "showTitle": false,
          "title": ""
        },
        "id": "P3LVzR0YU_3t"
      },
      "source": [
        "Calculos variaciones y marginalidad"
      ]
    },
    {
      "cell_type": "code",
      "execution_count": null,
      "metadata": {
        "application/vnd.databricks.v1+cell": {
          "cellMetadata": {
            "byteLimit": 2048000,
            "rowLimit": 10000
          },
          "inputWidgets": {},
          "nuid": "25a00e7b-9e23-4fce-a11d-0f13eb0b53ac",
          "showTitle": false,
          "title": ""
        },
        "id": "VUBisHUfU_3t"
      },
      "outputs": [],
      "source": [
        "# Ventana que trae datos de columnas de un registro anterior\n",
        "windowSpec = Window.orderBy(\"ticker_symbol\", 'ticker_symbol')"
      ]
    },
    {
      "cell_type": "code",
      "source": [
        "# Esto es viejo ya no iria\n",
        "df_CompanyValues = df_CompanyValues.withColumn('previous_open_value', lag(col('open_value')).over(windowSpec))\\\n",
        "                  .withColumn('previous_ticker_symbol', lag(col('ticker_symbol')).over(windowSpec))\\\n",
        "                  .withColumn('previus_volume', lag(col('volume')).over(windowSpec))"
      ],
      "metadata": {
        "id": "DOV23tdLlT_c"
      },
      "execution_count": null,
      "outputs": []
    },
    {
      "cell_type": "code",
      "source": [
        "def previous_value(tabla, columna):\n",
        "  tabla = tabla.withColumn(f'previous_{columna}', lag(col(columna)).over(windowSpec))\n",
        "  return tabla"
      ],
      "metadata": {
        "id": "qVAHdqe8kDFD"
      },
      "execution_count": null,
      "outputs": []
    },
    {
      "cell_type": "code",
      "source": [
        "previous_column = ['open_value', 'ticker_symbol', 'volume']\n",
        "\n",
        "for column in previous_column:\n",
        "  df_CompanyValues = previous_value(df_CompanyValues, column)"
      ],
      "metadata": {
        "id": "FiciKuHbkvgs"
      },
      "execution_count": null,
      "outputs": []
    },
    {
      "cell_type": "code",
      "execution_count": null,
      "metadata": {
        "application/vnd.databricks.v1+cell": {
          "cellMetadata": {
            "byteLimit": 2048000,
            "rowLimit": 10000
          },
          "inputWidgets": {},
          "nuid": "7179d35c-52ce-4317-ba9c-78e73ee151e4",
          "showTitle": false,
          "title": ""
        },
        "id": "4ACpfEzPU_3t"
      },
      "outputs": [],
      "source": [
        "# Variacion precio durante cierre\n",
        "df_CompanyValues = df_CompanyValues.withColumn('v_open_diaria',\n",
        "                   when(col('ticker_symbol') == col('previous_ticker_symbol'),\n",
        "                        round((col('open_value') - col('previous_open_value')),2)).otherwise(None))\n",
        "\n",
        "# Variacion precio durante apertura\n",
        "df_CompanyValues = df_CompanyValues.withColumn('v_open',\n",
        "                   when(col('ticker_symbol') == col('previous_ticker_symbol'),\n",
        "                        round((col('close_value') - col('open_value')),2)).otherwise(None))\n",
        "\n",
        "# Variacion de volumen\n",
        "df_CompanyValues = df_CompanyValues.withColumn('v_volume',\n",
        "                   when(col('ticker_symbol') == col('previous_ticker_symbol'),\n",
        "                        round((col('volume') - col('previous_volume')),2)).otherwise(None))\n",
        "\n",
        "# Variacion marginal del volumen respecto al precio\n",
        "df_CompanyValues = df_CompanyValues.withColumn('mg_open_volume',\n",
        "                   when(col('ticker_symbol') == col('previous_ticker_symbol'),\n",
        "                        (col('v_open') / col('v_volume'))).otherwise(None))"
      ]
    },
    {
      "cell_type": "code",
      "execution_count": null,
      "metadata": {
        "application/vnd.databricks.v1+cell": {
          "cellMetadata": {
            "byteLimit": 2048000,
            "rowLimit": 10000
          },
          "inputWidgets": {},
          "nuid": "07f2abd3-94d5-432e-b6c5-ab2f94ece40b",
          "showTitle": false,
          "title": ""
        },
        "id": "0Lt_gxUxU_3t"
      },
      "outputs": [],
      "source": [
        "for column in previous_column:\n",
        "  df_CompanyValues = df_CompanyValues.drop(f'{column}')"
      ]
    },
    {
      "cell_type": "code",
      "execution_count": null,
      "metadata": {
        "application/vnd.databricks.v1+cell": {
          "cellMetadata": {
            "byteLimit": 2048000,
            "rowLimit": 10000
          },
          "inputWidgets": {},
          "nuid": "fcf7ce8c-22d5-42a2-a038-894fa3f1ea70",
          "showTitle": false,
          "title": ""
        },
        "id": "2ydmwAf4U_3t"
      },
      "outputs": [],
      "source": [
        "# Escribir cada dataframe en rutas diferentes del data lake en formato Parqet\n",
        "for tabla in file_name:\n",
        "    exec(f\"df_{tabla}.write.save(path=f'abfss://{container}@{datalake}.dfs.core.windows.net/Trusted/{tabla}', format='parquet', mode='overwrite')\")"
      ]
    },
    {
      "cell_type": "code",
      "execution_count": null,
      "metadata": {
        "application/vnd.databricks.v1+cell": {
          "cellMetadata": {},
          "inputWidgets": {},
          "nuid": "66670267-469b-469b-92e7-5dc6a1b7185a",
          "showTitle": false,
          "title": ""
        },
        "id": "2Xfam0gSU_3u"
      },
      "outputs": [],
      "source": []
    }
  ],
  "metadata": {
    "application/vnd.databricks.v1+notebook": {
      "dashboards": [],
      "language": "python",
      "notebookMetadata": {
        "pythonIndentUnit": 4
      },
      "notebookName": "RawData to Trusted - Financiero",
      "widgets": {}
    },
    "colab": {
      "provenance": []
    },
    "language_info": {
      "name": "python"
    },
    "kernelspec": {
      "name": "python3",
      "display_name": "Python 3"
    }
  },
  "nbformat": 4,
  "nbformat_minor": 0
}